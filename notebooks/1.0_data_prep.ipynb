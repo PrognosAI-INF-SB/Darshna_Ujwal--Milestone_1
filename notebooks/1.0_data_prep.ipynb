{
 "cells": [
  {
   "cell_type": "code",
   "execution_count": 11,
   "id": "dfc3ad1f",
   "metadata": {},
   "outputs": [],
   "source": [
    "#Importing Libraries\n",
    "\n",
    "import pandas as pd\n",
    "import numpy as np\n",
    "import os\n",
    "from sklearn.preprocessing import MinMaxScaler"
   ]
  },
  {
   "cell_type": "code",
   "execution_count": 12,
   "id": "e9e94b08",
   "metadata": {},
   "outputs": [],
   "source": [
    "#Define File Paths\n",
    "\n",
    "# Relative path to the raw data file\n",
    "RAW_FILE_PATH = '../data/raw/train_FD001.txt'\n",
    "# Path for the processed output file\n",
    "PROCESSED_FOLDER = '../data/processed'\n",
    "PROCESSED_FILE_PATH = os.path.join(PROCESSED_FOLDER, 'train_FD001_processed.csv')"
   ]
  },
  {
   "cell_type": "code",
   "execution_count": 13,
   "id": "aebdfd3c",
   "metadata": {},
   "outputs": [
    {
     "name": "stdout",
     "output_type": "stream",
     "text": [
      "Loading data from: ../data/raw/train_FD001.txt\n"
     ]
    }
   ],
   "source": [
    "#Define Column Names\n",
    "\n",
    "#5 operational columns + 21 sensor columns (s1-s26 are listed, but only ~21 are dynamic)\n",
    "op_cols = ['op_setting_1', 'op_setting_2', 'op_setting_3']\n",
    "sensor_cols_full = [f's_{i}' for i in range(1, 27)]\n",
    "column_names = ['unit_number', 'time_in_cycles'] + op_cols + sensor_cols_full\n",
    "\n",
    "print(f\"Loading data from: {RAW_FILE_PATH}\")"
   ]
  },
  {
   "cell_type": "code",
   "execution_count": 14,
   "id": "81e8026e",
   "metadata": {},
   "outputs": [
    {
     "name": "stdout",
     "output_type": "stream",
     "text": [
      "Raw data loaded successfully. Shape: (20631, 31)\n"
     ]
    },
    {
     "name": "stderr",
     "output_type": "stream",
     "text": [
      "<>:4: SyntaxWarning: invalid escape sequence '\\s'\n",
      "<>:4: SyntaxWarning: invalid escape sequence '\\s'\n",
      "C:\\Users\\Asus\\AppData\\Local\\Temp\\ipykernel_13512\\2337017302.py:4: SyntaxWarning: invalid escape sequence '\\s'\n",
      "  df_raw = pd.read_csv(RAW_FILE_PATH, sep='\\s+', header=None, names=column_names, index_col=False)\n"
     ]
    }
   ],
   "source": [
    "#Loading Data\n",
    "\n",
    "try:\n",
    "    df_raw = pd.read_csv(RAW_FILE_PATH, sep='\\s+', header=None, names=column_names, index_col=False)\n",
    "    print(f\"Raw data loaded successfully. Shape: {df_raw.shape}\")\n",
    "except FileNotFoundError:\n",
    "    print(f\"Error: The file {RAW_FILE_PATH} was not found. Please check your folder structure.\")\n",
    "    raise"
   ]
  },
  {
   "cell_type": "code",
   "execution_count": 15,
   "id": "950e1a6a",
   "metadata": {},
   "outputs": [],
   "source": [
    "#Initial Preprocessing and Cleaning\n",
    "\n",
    "#Drop columns that are entirely NaN (often an artifact of the TXT parsing)\n",
    "df_raw.dropna(axis=1, how='all', inplace=True)"
   ]
  },
  {
   "cell_type": "code",
   "execution_count": 16,
   "id": "a047a771",
   "metadata": {},
   "outputs": [
    {
     "name": "stdout",
     "output_type": "stream",
     "text": [
      "\n",
      "Data shape after dropping all-NaN columns: (20631, 26)\n",
      "Static Sensor Columns Removed (STD=0): ['s_1', 's_10', 's_18', 's_19']\n",
      "Data shape after cleaning: (20631, 22)\n"
     ]
    }
   ],
   "source": [
    "#Drop Static/Constant Features\n",
    "\n",
    "static_cols = [col for col in df_raw.columns if df_raw[col].std() == 0 and col.startswith('s_')]\n",
    "df_cleaned = df_raw.drop(columns=static_cols)\n",
    "\n",
    "print(f\"\\nData shape after dropping all-NaN columns: {df_raw.shape}\")\n",
    "print(f\"Static Sensor Columns Removed (STD=0): {static_cols}\")\n",
    "print(f\"Data shape after cleaning: {df_cleaned.shape}\")"
   ]
  },
  {
   "cell_type": "code",
   "execution_count": 17,
   "id": "9c6ff61e",
   "metadata": {},
   "outputs": [
    {
     "data": {
      "text/html": [
       "<div>\n",
       "<style scoped>\n",
       "    .dataframe tbody tr th:only-of-type {\n",
       "        vertical-align: middle;\n",
       "    }\n",
       "\n",
       "    .dataframe tbody tr th {\n",
       "        vertical-align: top;\n",
       "    }\n",
       "\n",
       "    .dataframe thead th {\n",
       "        text-align: right;\n",
       "    }\n",
       "</style>\n",
       "<table border=\"1\" class=\"dataframe\">\n",
       "  <thead>\n",
       "    <tr style=\"text-align: right;\">\n",
       "      <th></th>\n",
       "      <th>unit_number</th>\n",
       "      <th>time_in_cycles</th>\n",
       "      <th>op_setting_1</th>\n",
       "      <th>op_setting_2</th>\n",
       "      <th>op_setting_3</th>\n",
       "      <th>s_2</th>\n",
       "      <th>s_3</th>\n",
       "      <th>s_4</th>\n",
       "      <th>s_5</th>\n",
       "      <th>s_6</th>\n",
       "      <th>...</th>\n",
       "      <th>s_9</th>\n",
       "      <th>s_11</th>\n",
       "      <th>s_12</th>\n",
       "      <th>s_13</th>\n",
       "      <th>s_14</th>\n",
       "      <th>s_15</th>\n",
       "      <th>s_16</th>\n",
       "      <th>s_17</th>\n",
       "      <th>s_20</th>\n",
       "      <th>s_21</th>\n",
       "    </tr>\n",
       "  </thead>\n",
       "  <tbody>\n",
       "    <tr>\n",
       "      <th>0</th>\n",
       "      <td>1</td>\n",
       "      <td>1</td>\n",
       "      <td>-0.0007</td>\n",
       "      <td>-0.0004</td>\n",
       "      <td>100.0</td>\n",
       "      <td>641.82</td>\n",
       "      <td>1589.70</td>\n",
       "      <td>1400.60</td>\n",
       "      <td>14.62</td>\n",
       "      <td>21.61</td>\n",
       "      <td>...</td>\n",
       "      <td>9046.19</td>\n",
       "      <td>47.47</td>\n",
       "      <td>521.66</td>\n",
       "      <td>2388.02</td>\n",
       "      <td>8138.62</td>\n",
       "      <td>8.4195</td>\n",
       "      <td>0.03</td>\n",
       "      <td>392</td>\n",
       "      <td>39.06</td>\n",
       "      <td>23.4190</td>\n",
       "    </tr>\n",
       "    <tr>\n",
       "      <th>1</th>\n",
       "      <td>1</td>\n",
       "      <td>2</td>\n",
       "      <td>0.0019</td>\n",
       "      <td>-0.0003</td>\n",
       "      <td>100.0</td>\n",
       "      <td>642.15</td>\n",
       "      <td>1591.82</td>\n",
       "      <td>1403.14</td>\n",
       "      <td>14.62</td>\n",
       "      <td>21.61</td>\n",
       "      <td>...</td>\n",
       "      <td>9044.07</td>\n",
       "      <td>47.49</td>\n",
       "      <td>522.28</td>\n",
       "      <td>2388.07</td>\n",
       "      <td>8131.49</td>\n",
       "      <td>8.4318</td>\n",
       "      <td>0.03</td>\n",
       "      <td>392</td>\n",
       "      <td>39.00</td>\n",
       "      <td>23.4236</td>\n",
       "    </tr>\n",
       "    <tr>\n",
       "      <th>2</th>\n",
       "      <td>1</td>\n",
       "      <td>3</td>\n",
       "      <td>-0.0043</td>\n",
       "      <td>0.0003</td>\n",
       "      <td>100.0</td>\n",
       "      <td>642.35</td>\n",
       "      <td>1587.99</td>\n",
       "      <td>1404.20</td>\n",
       "      <td>14.62</td>\n",
       "      <td>21.61</td>\n",
       "      <td>...</td>\n",
       "      <td>9052.94</td>\n",
       "      <td>47.27</td>\n",
       "      <td>522.42</td>\n",
       "      <td>2388.03</td>\n",
       "      <td>8133.23</td>\n",
       "      <td>8.4178</td>\n",
       "      <td>0.03</td>\n",
       "      <td>390</td>\n",
       "      <td>38.95</td>\n",
       "      <td>23.3442</td>\n",
       "    </tr>\n",
       "    <tr>\n",
       "      <th>3</th>\n",
       "      <td>1</td>\n",
       "      <td>4</td>\n",
       "      <td>0.0007</td>\n",
       "      <td>0.0000</td>\n",
       "      <td>100.0</td>\n",
       "      <td>642.35</td>\n",
       "      <td>1582.79</td>\n",
       "      <td>1401.87</td>\n",
       "      <td>14.62</td>\n",
       "      <td>21.61</td>\n",
       "      <td>...</td>\n",
       "      <td>9049.48</td>\n",
       "      <td>47.13</td>\n",
       "      <td>522.86</td>\n",
       "      <td>2388.08</td>\n",
       "      <td>8133.83</td>\n",
       "      <td>8.3682</td>\n",
       "      <td>0.03</td>\n",
       "      <td>392</td>\n",
       "      <td>38.88</td>\n",
       "      <td>23.3739</td>\n",
       "    </tr>\n",
       "    <tr>\n",
       "      <th>4</th>\n",
       "      <td>1</td>\n",
       "      <td>5</td>\n",
       "      <td>-0.0019</td>\n",
       "      <td>-0.0002</td>\n",
       "      <td>100.0</td>\n",
       "      <td>642.37</td>\n",
       "      <td>1582.85</td>\n",
       "      <td>1406.22</td>\n",
       "      <td>14.62</td>\n",
       "      <td>21.61</td>\n",
       "      <td>...</td>\n",
       "      <td>9055.15</td>\n",
       "      <td>47.28</td>\n",
       "      <td>522.19</td>\n",
       "      <td>2388.04</td>\n",
       "      <td>8133.80</td>\n",
       "      <td>8.4294</td>\n",
       "      <td>0.03</td>\n",
       "      <td>393</td>\n",
       "      <td>38.90</td>\n",
       "      <td>23.4044</td>\n",
       "    </tr>\n",
       "  </tbody>\n",
       "</table>\n",
       "<p>5 rows × 22 columns</p>\n",
       "</div>"
      ],
      "text/plain": [
       "   unit_number  time_in_cycles  op_setting_1  op_setting_2  op_setting_3  \\\n",
       "0            1               1       -0.0007       -0.0004         100.0   \n",
       "1            1               2        0.0019       -0.0003         100.0   \n",
       "2            1               3       -0.0043        0.0003         100.0   \n",
       "3            1               4        0.0007        0.0000         100.0   \n",
       "4            1               5       -0.0019       -0.0002         100.0   \n",
       "\n",
       "      s_2      s_3      s_4    s_5    s_6  ...      s_9   s_11    s_12  \\\n",
       "0  641.82  1589.70  1400.60  14.62  21.61  ...  9046.19  47.47  521.66   \n",
       "1  642.15  1591.82  1403.14  14.62  21.61  ...  9044.07  47.49  522.28   \n",
       "2  642.35  1587.99  1404.20  14.62  21.61  ...  9052.94  47.27  522.42   \n",
       "3  642.35  1582.79  1401.87  14.62  21.61  ...  9049.48  47.13  522.86   \n",
       "4  642.37  1582.85  1406.22  14.62  21.61  ...  9055.15  47.28  522.19   \n",
       "\n",
       "      s_13     s_14    s_15  s_16  s_17   s_20     s_21  \n",
       "0  2388.02  8138.62  8.4195  0.03   392  39.06  23.4190  \n",
       "1  2388.07  8131.49  8.4318  0.03   392  39.00  23.4236  \n",
       "2  2388.03  8133.23  8.4178  0.03   390  38.95  23.3442  \n",
       "3  2388.08  8133.83  8.3682  0.03   392  38.88  23.3739  \n",
       "4  2388.04  8133.80  8.4294  0.03   393  38.90  23.4044  \n",
       "\n",
       "[5 rows x 22 columns]"
      ]
     },
     "execution_count": 17,
     "metadata": {},
     "output_type": "execute_result"
    }
   ],
   "source": [
    "df_cleaned.head()"
   ]
  },
  {
   "cell_type": "code",
   "execution_count": 18,
   "id": "8688fa43",
   "metadata": {},
   "outputs": [
    {
     "name": "stdout",
     "output_type": "stream",
     "text": [
      "\n",
      "Feature Engineering: Calculating RUL Target Variable\n",
      "RUL calculation complete.\n",
      "       unit_number  time_in_cycles  RUL\n",
      "20626          100             196    4\n",
      "20627          100             197    3\n",
      "20628          100             198    2\n",
      "20629          100             199    1\n",
      "20630          100             200    0\n"
     ]
    }
   ],
   "source": [
    "#Feature Engineering (Remaining Useful Life - RUL)\n",
    "\n",
    "print(\"\\nFeature Engineering: Calculating RUL Target Variable\")\n",
    "\n",
    "#Calculate RUL\n",
    "\n",
    "max_cycles_df = df_cleaned.groupby('unit_number')['time_in_cycles'].max().reset_index()\n",
    "max_cycles_df.columns = ['unit_number', 'max_time_in_cycles']\n",
    "\n",
    "df_cleaned = df_cleaned.merge(max_cycles_df, on='unit_number', how='left')\n",
    "\n",
    "df_cleaned['RUL'] = df_cleaned['max_time_in_cycles'] - df_cleaned['time_in_cycles']\n",
    "\n",
    "df_cleaned.drop(columns=['max_time_in_cycles'], inplace=True)\n",
    "\n",
    "print(\"RUL calculation complete.\")\n",
    "print(df_cleaned[['unit_number', 'time_in_cycles', 'RUL']].tail())\n"
   ]
  },
  {
   "cell_type": "code",
   "execution_count": 19,
   "id": "e6ffbd36",
   "metadata": {},
   "outputs": [
    {
     "name": "stdout",
     "output_type": "stream",
     "text": [
      "\n",
      "Scaling Sensor and Operational Features\n",
      "Features scaled successfully (MinMaxScaler).\n"
     ]
    }
   ],
   "source": [
    "#Feature Scaling\n",
    "\n",
    "print(\"\\nScaling Sensor and Operational Features\")\n",
    "\n",
    "#Identify Features to Scale\n",
    "\n",
    "cols_to_exclude = ['unit_number', 'time_in_cycles', 'RUL']\n",
    "features_to_scale = df_cleaned.columns.drop(cols_to_exclude, errors='ignore').tolist()\n",
    "\n",
    "#Apply Min-Max Scaling (0 to 1)\n",
    "scaler = MinMaxScaler()\n",
    "\n",
    "#Perform scaling on a copy\n",
    "df_scaled = df_cleaned.copy()\n",
    "df_scaled[features_to_scale] = scaler.fit_transform(df_scaled[features_to_scale])\n",
    "\n",
    "print(\"Features scaled successfully (MinMaxScaler).\")"
   ]
  },
  {
   "cell_type": "code",
   "execution_count": 20,
   "id": "4ad11440",
   "metadata": {},
   "outputs": [
    {
     "name": "stdout",
     "output_type": "stream",
     "text": [
      "\n",
      "Milestone 1 Complete!\n",
      "Final processed dataset saved to: ../data/processed\\train_FD001_processed.csv\n",
      "Final shape of the processed data: (20631, 23)\n"
     ]
    }
   ],
   "source": [
    "#Final Output and Saving\n",
    "\n",
    "#Prepare Output Directory and Save File\n",
    "if not os.path.exists(PROCESSED_FOLDER):\n",
    "    os.makedirs(PROCESSED_FOLDER)\n",
    "    print(f\"\\nCreated directory: {PROCESSED_FOLDER}\")\n",
    "\n",
    "#Save the final cleaned, RUL-calculated, and scaled DataFrame to CSV\n",
    "df_scaled.to_csv(PROCESSED_FILE_PATH, index=False)\n",
    "\n",
    "print(f\"\\nMilestone 1 Complete!\")\n",
    "print(f\"Final processed dataset saved to: {PROCESSED_FILE_PATH}\")\n",
    "print(f\"Final shape of the processed data: {df_scaled.shape}\")"
   ]
  }
 ],
 "metadata": {
  "kernelspec": {
   "display_name": "Python 3",
   "language": "python",
   "name": "python3"
  },
  "language_info": {
   "codemirror_mode": {
    "name": "ipython",
    "version": 3
   },
   "file_extension": ".py",
   "mimetype": "text/x-python",
   "name": "python",
   "nbconvert_exporter": "python",
   "pygments_lexer": "ipython3",
   "version": "3.12.4"
  }
 },
 "nbformat": 4,
 "nbformat_minor": 5
}
